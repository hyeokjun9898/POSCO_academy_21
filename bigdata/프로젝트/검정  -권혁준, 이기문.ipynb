{
 "cells": [
  {
   "cell_type": "code",
   "execution_count": 208,
   "id": "8d4cdf0b",
   "metadata": {},
   "outputs": [],
   "source": [
    "import pandas as pd\n",
    "import numpy as np\n",
    "import matplotlib\n",
    "import matplotlib.pyplot as plt\n",
    "%matplotlib inline\n",
    "import seaborn as sns\n",
    "import statsmodels.formula.api as smf\n",
    "from statsmodels.api import qqplot,add_constant\n",
    "from statsmodels.stats.outliers_influence import variance_inflation_factor\n",
    "from sklearn.model_selection import train_test_split\n",
    "from sklearn.linear_model import LinearRegression\n",
    "from sklearn.feature_selection import RFE\n",
    "from sklearn.preprocessing import StandardScaler\n",
    "from sklearn.metrics import r2_score\n",
    "import warnings \n",
    "import graphviz\n",
    "from sklearn.tree import export_graphviz\n",
    "from sklearn.model_selection import train_test_split\n",
    "from sklearn.tree import DecisionTreeRegressor\n",
    "from sklearn.tree import DecisionTreeClassifier\n",
    "from sklearn.model_selection import GridSearchCV\n",
    "from sklearn.linear_model import Ridge, Lasso, ElasticNet\n",
    "from sklearn.ensemble import RandomForestRegressor\n",
    "warnings.filterwarnings('ignore')\n",
    "import matplotlib.pyplot as plt\n",
    "import matplotlib.font_manager as fm\n",
    "from sklearn.ensemble import GradientBoostingRegressor\n",
    "from sklearn.metrics import confusion_matrix\n",
    "from sklearn.model_selection import RandomizedSearchCV\n",
    "from sklearn.model_selection import GridSearchCV\n",
    "from sklearn.metrics import roc_auc_score\n",
    "from sklearn.ensemble import RandomForestClassifier\n",
    "from sklearn.ensemble import GradientBoostingClassifier\n",
    "from xgboost import plot_importance\n",
    "from xgboost import XGBClassifier\n",
    "from sklearn.metrics import classification_report\n",
    "from sklearn.metrics import accuracy_score, roc_auc_score, precision_score, recall_score, f1_score\n",
    "from sklearn.svm import SVC\n",
    "from scipy.stats import expon, reciprocal\n",
    "from sklearn.inspection import permutation_importance\n",
    "\n",
    "matplotlib.rc(\"font\", family=\"NanumGothic\")\n",
    "matplotlib.rc(\"axes\", unicode_minus = False)"
   ]
  },
  {
   "cell_type": "code",
   "execution_count": 209,
   "id": "ce1b3bd9",
   "metadata": {},
   "outputs": [],
   "source": [
    "df1 = pd.read_csv('vip모델링(불량고객제거+결혼+세부주소지).csv')\n",
    "df2 = pd.read_csv('불량고객모델링.csv',index_col=0)\n",
    "df3 = pd.read_csv('구독_전체데이터.csv',index_col=0)"
   ]
  },
  {
   "cell_type": "code",
   "execution_count": 210,
   "id": "9cb13c26",
   "metadata": {},
   "outputs": [],
   "source": [
    "def fun_plot_hist(data, var):\n",
    "    plt.hist(data[data[\"VIP\"] == 1][var], label = \"VIP\", alpha = 0.5)\n",
    "    plt.hist(data[data[\"VIP\"] == 0][var], label = \"일반\", alpha = 0.5)\n",
    "    plt.title(var)\n",
    "    plt.legend()"
   ]
  },
  {
   "cell_type": "code",
   "execution_count": 211,
   "id": "d3223364",
   "metadata": {},
   "outputs": [],
   "source": [
    "def fun_print_crosstab(data, var):\n",
    "    return pd.crosstab(data[\"VIP\"], data[var], margins=True)"
   ]
  },
  {
   "cell_type": "code",
   "execution_count": 212,
   "id": "d6be8624",
   "metadata": {},
   "outputs": [],
   "source": [
    "# def fun_print_crosstab(data, var):\n",
    "#     return pd.crosstab(data[\"불량회원\"], data[var], margins=True)"
   ]
  },
  {
   "cell_type": "code",
   "execution_count": 213,
   "id": "fba18c2a",
   "metadata": {},
   "outputs": [],
   "source": [
    "df_cross=fun_print_crosstab(df1,'연령대')"
   ]
  },
  {
   "cell_type": "code",
   "execution_count": 214,
   "id": "ee5755a6",
   "metadata": {},
   "outputs": [],
   "source": [
    "df_cross_T = df_cross.copy()"
   ]
  },
  {
   "cell_type": "code",
   "execution_count": 215,
   "id": "d1886fe3",
   "metadata": {},
   "outputs": [],
   "source": [
    "df_crossT = df_cross_T.T"
   ]
  },
  {
   "cell_type": "code",
   "execution_count": 216,
   "id": "ac0a1427",
   "metadata": {},
   "outputs": [
    {
     "data": {
      "text/html": [
       "<div>\n",
       "<style scoped>\n",
       "    .dataframe tbody tr th:only-of-type {\n",
       "        vertical-align: middle;\n",
       "    }\n",
       "\n",
       "    .dataframe tbody tr th {\n",
       "        vertical-align: top;\n",
       "    }\n",
       "\n",
       "    .dataframe thead th {\n",
       "        text-align: right;\n",
       "    }\n",
       "</style>\n",
       "<table border=\"1\" class=\"dataframe\">\n",
       "  <thead>\n",
       "    <tr style=\"text-align: right;\">\n",
       "      <th>VIP</th>\n",
       "      <th>0</th>\n",
       "      <th>1</th>\n",
       "      <th>All</th>\n",
       "    </tr>\n",
       "    <tr>\n",
       "      <th>연령대</th>\n",
       "      <th></th>\n",
       "      <th></th>\n",
       "      <th></th>\n",
       "    </tr>\n",
       "  </thead>\n",
       "  <tbody>\n",
       "    <tr>\n",
       "      <th>20대</th>\n",
       "      <td>1358</td>\n",
       "      <td>39</td>\n",
       "      <td>1397</td>\n",
       "    </tr>\n",
       "    <tr>\n",
       "      <th>30대</th>\n",
       "      <td>4260</td>\n",
       "      <td>201</td>\n",
       "      <td>4461</td>\n",
       "    </tr>\n",
       "    <tr>\n",
       "      <th>40대</th>\n",
       "      <td>2946</td>\n",
       "      <td>174</td>\n",
       "      <td>3120</td>\n",
       "    </tr>\n",
       "    <tr>\n",
       "      <th>50대</th>\n",
       "      <td>1558</td>\n",
       "      <td>97</td>\n",
       "      <td>1655</td>\n",
       "    </tr>\n",
       "    <tr>\n",
       "      <th>60대 이상</th>\n",
       "      <td>1024</td>\n",
       "      <td>60</td>\n",
       "      <td>1084</td>\n",
       "    </tr>\n",
       "    <tr>\n",
       "      <th>All</th>\n",
       "      <td>11146</td>\n",
       "      <td>571</td>\n",
       "      <td>11717</td>\n",
       "    </tr>\n",
       "  </tbody>\n",
       "</table>\n",
       "</div>"
      ],
      "text/plain": [
       "VIP         0    1    All\n",
       "연령대                      \n",
       "20대      1358   39   1397\n",
       "30대      4260  201   4461\n",
       "40대      2946  174   3120\n",
       "50대      1558   97   1655\n",
       "60대 이상   1024   60   1084\n",
       "All     11146  571  11717"
      ]
     },
     "execution_count": 216,
     "metadata": {},
     "output_type": "execute_result"
    }
   ],
   "source": [
    "df_crossT"
   ]
  },
  {
   "cell_type": "code",
   "execution_count": 217,
   "id": "27bf0600",
   "metadata": {},
   "outputs": [],
   "source": [
    "df_crossT['비율']=df_crossT[1]/df_crossT['All']"
   ]
  },
  {
   "cell_type": "code",
   "execution_count": 218,
   "id": "b3bbfc43",
   "metadata": {},
   "outputs": [],
   "source": [
    "df_crossT1 = df_crossT.iloc[:5,:2]"
   ]
  },
  {
   "cell_type": "code",
   "execution_count": 219,
   "id": "ca811e5e",
   "metadata": {},
   "outputs": [
    {
     "data": {
      "text/html": [
       "<div>\n",
       "<style scoped>\n",
       "    .dataframe tbody tr th:only-of-type {\n",
       "        vertical-align: middle;\n",
       "    }\n",
       "\n",
       "    .dataframe tbody tr th {\n",
       "        vertical-align: top;\n",
       "    }\n",
       "\n",
       "    .dataframe thead th {\n",
       "        text-align: right;\n",
       "    }\n",
       "</style>\n",
       "<table border=\"1\" class=\"dataframe\">\n",
       "  <thead>\n",
       "    <tr style=\"text-align: right;\">\n",
       "      <th>VIP</th>\n",
       "      <th>0</th>\n",
       "      <th>1</th>\n",
       "    </tr>\n",
       "    <tr>\n",
       "      <th>연령대</th>\n",
       "      <th></th>\n",
       "      <th></th>\n",
       "    </tr>\n",
       "  </thead>\n",
       "  <tbody>\n",
       "    <tr>\n",
       "      <th>20대</th>\n",
       "      <td>1358</td>\n",
       "      <td>39</td>\n",
       "    </tr>\n",
       "    <tr>\n",
       "      <th>30대</th>\n",
       "      <td>4260</td>\n",
       "      <td>201</td>\n",
       "    </tr>\n",
       "    <tr>\n",
       "      <th>40대</th>\n",
       "      <td>2946</td>\n",
       "      <td>174</td>\n",
       "    </tr>\n",
       "    <tr>\n",
       "      <th>50대</th>\n",
       "      <td>1558</td>\n",
       "      <td>97</td>\n",
       "    </tr>\n",
       "    <tr>\n",
       "      <th>60대 이상</th>\n",
       "      <td>1024</td>\n",
       "      <td>60</td>\n",
       "    </tr>\n",
       "  </tbody>\n",
       "</table>\n",
       "</div>"
      ],
      "text/plain": [
       "VIP        0    1\n",
       "연령대              \n",
       "20대     1358   39\n",
       "30대     4260  201\n",
       "40대     2946  174\n",
       "50대     1558   97\n",
       "60대 이상  1024   60"
      ]
     },
     "execution_count": 219,
     "metadata": {},
     "output_type": "execute_result"
    }
   ],
   "source": [
    "df_crossT1"
   ]
  },
  {
   "cell_type": "code",
   "execution_count": 220,
   "id": "ffc0a2c6",
   "metadata": {},
   "outputs": [],
   "source": [
    "from scipy.stats import chi2_contingency\n",
    "\n",
    "from scipy.stats import shapiro\n",
    "from scipy import stats\n",
    "import scipy\n",
    "from statsmodels.stats.proportion import proportions_ztest"
   ]
  },
  {
   "cell_type": "code",
   "execution_count": 221,
   "id": "477d0d4a",
   "metadata": {},
   "outputs": [
    {
     "name": "stdout",
     "output_type": "stream",
     "text": [
      "chi-square test\n",
      "chisq:22.197\n",
      "p:0.00018\n",
      "degree pf freedom:{} 4\n",
      "expected value:\n",
      "{} [[1328.921   68.079]\n",
      " [4243.604  217.396]\n",
      " [2967.954  152.046]\n",
      " [1574.348   80.652]\n",
      " [1031.174   52.826]]\n"
     ]
    }
   ],
   "source": [
    "# 귀무가설 : 서로 독립이다\n",
    "\n",
    "# 기각하므로 상관관계가 있음\n",
    "\n",
    "chi, pval, dof, expected = stats.chi2_contingency(df_crossT1)\n",
    "\n",
    "print('chi-square test')\n",
    "print('chisq:{0:0.3f}'.format(chi))\n",
    "print('p:{0:0.5f}'.format(pval))\n",
    "print('degree pf freedom:{}',format(dof))\n",
    "print('expected value:\\n{}',format(expected.round(3)))\n"
   ]
  },
  {
   "cell_type": "code",
   "execution_count": 222,
   "id": "34decd03",
   "metadata": {},
   "outputs": [
    {
     "data": {
      "text/html": [
       "<div>\n",
       "<style scoped>\n",
       "    .dataframe tbody tr th:only-of-type {\n",
       "        vertical-align: middle;\n",
       "    }\n",
       "\n",
       "    .dataframe tbody tr th {\n",
       "        vertical-align: top;\n",
       "    }\n",
       "\n",
       "    .dataframe thead th {\n",
       "        text-align: right;\n",
       "    }\n",
       "</style>\n",
       "<table border=\"1\" class=\"dataframe\">\n",
       "  <thead>\n",
       "    <tr style=\"text-align: right;\">\n",
       "      <th>성별</th>\n",
       "      <th>남</th>\n",
       "      <th>여</th>\n",
       "      <th>All</th>\n",
       "    </tr>\n",
       "    <tr>\n",
       "      <th>VIP</th>\n",
       "      <th></th>\n",
       "      <th></th>\n",
       "      <th></th>\n",
       "    </tr>\n",
       "  </thead>\n",
       "  <tbody>\n",
       "    <tr>\n",
       "      <th>0</th>\n",
       "      <td>646</td>\n",
       "      <td>10500</td>\n",
       "      <td>11146</td>\n",
       "    </tr>\n",
       "    <tr>\n",
       "      <th>1</th>\n",
       "      <td>45</td>\n",
       "      <td>526</td>\n",
       "      <td>571</td>\n",
       "    </tr>\n",
       "    <tr>\n",
       "      <th>All</th>\n",
       "      <td>691</td>\n",
       "      <td>11026</td>\n",
       "      <td>11717</td>\n",
       "    </tr>\n",
       "  </tbody>\n",
       "</table>\n",
       "</div>"
      ],
      "text/plain": [
       "성별     남      여    All\n",
       "VIP                   \n",
       "0    646  10500  11146\n",
       "1     45    526    571\n",
       "All  691  11026  11717"
      ]
     },
     "execution_count": 222,
     "metadata": {},
     "output_type": "execute_result"
    }
   ],
   "source": [
    "df_cross=fun_print_crosstab(df1,'성별')\n",
    "df_cross"
   ]
  },
  {
   "cell_type": "code",
   "execution_count": 223,
   "id": "2cfe7758",
   "metadata": {},
   "outputs": [],
   "source": [
    "df_cross = df_cross.iloc[:2,:2]"
   ]
  },
  {
   "cell_type": "code",
   "execution_count": 224,
   "id": "81fb669d",
   "metadata": {
    "scrolled": false
   },
   "outputs": [
    {
     "name": "stdout",
     "output_type": "stream",
     "text": [
      "chi-square test\n",
      "chisq:3.888\n",
      "p:0.049\n",
      "degree pf freedom:{} 1\n",
      "expected value:\n",
      "{} [[  657.326 10488.674]\n",
      " [   33.674   537.326]]\n"
     ]
    }
   ],
   "source": [
    "# 귀무가설 : 서로 독립이다\n",
    "# 기각하므로 상관관계가 있음\n",
    "# 성별간에는 vip 상관관계가 있음\n",
    "\n",
    "chi, pval, dof, expected = stats.chi2_contingency(df_cross)\n",
    "\n",
    "print('chi-square test')\n",
    "print('chisq:{0:0.3f}'.format(chi))\n",
    "print('p:{0:0.3f}'.format(pval))\n",
    "print('degree pf freedom:{}',format(dof))\n",
    "print('expected value:\\n{}',format(expected.round(3)))"
   ]
  },
  {
   "cell_type": "code",
   "execution_count": null,
   "id": "87c452f7",
   "metadata": {},
   "outputs": [],
   "source": []
  },
  {
   "cell_type": "code",
   "execution_count": 225,
   "id": "f74d8573",
   "metadata": {},
   "outputs": [
    {
     "data": {
      "text/html": [
       "<div>\n",
       "<style scoped>\n",
       "    .dataframe tbody tr th:only-of-type {\n",
       "        vertical-align: middle;\n",
       "    }\n",
       "\n",
       "    .dataframe tbody tr th {\n",
       "        vertical-align: top;\n",
       "    }\n",
       "\n",
       "    .dataframe thead th {\n",
       "        text-align: right;\n",
       "    }\n",
       "</style>\n",
       "<table border=\"1\" class=\"dataframe\">\n",
       "  <thead>\n",
       "    <tr style=\"text-align: right;\">\n",
       "      <th>결혼</th>\n",
       "      <th>기혼</th>\n",
       "      <th>미혼</th>\n",
       "    </tr>\n",
       "    <tr>\n",
       "      <th>VIP</th>\n",
       "      <th></th>\n",
       "      <th></th>\n",
       "    </tr>\n",
       "  </thead>\n",
       "  <tbody>\n",
       "    <tr>\n",
       "      <th>0</th>\n",
       "      <td>4611</td>\n",
       "      <td>4116</td>\n",
       "    </tr>\n",
       "    <tr>\n",
       "      <th>1</th>\n",
       "      <td>228</td>\n",
       "      <td>223</td>\n",
       "    </tr>\n",
       "  </tbody>\n",
       "</table>\n",
       "</div>"
      ],
      "text/plain": [
       "결혼     기혼    미혼\n",
       "VIP            \n",
       "0    4611  4116\n",
       "1     228   223"
      ]
     },
     "execution_count": 225,
     "metadata": {},
     "output_type": "execute_result"
    }
   ],
   "source": [
    "df_cross=fun_print_crosstab(df1,'결혼')\n",
    "df_cross1 = df_cross.iloc[:2,[0,2]]\n",
    "df_cross1"
   ]
  },
  {
   "cell_type": "code",
   "execution_count": 226,
   "id": "5f1f8218",
   "metadata": {},
   "outputs": [
    {
     "name": "stdout",
     "output_type": "stream",
     "text": [
      "chi-square test\n",
      "chisq:0.806\n",
      "p:0.369\n",
      "degree pf freedom:{} 1\n",
      "expected value:\n",
      "{} [[4601.215 4125.785]\n",
      " [ 237.785  213.215]]\n"
     ]
    }
   ],
   "source": [
    "# df_cross=fun_print_crosstab(df1,'결혼')\n",
    "# df_cross\n",
    "\n",
    "# 귀무가설 : 서로 독립이다\n",
    "# 기각하므로 상관관계가 있음\n",
    "# 결혼 간에는 vip 상관관계 없음\n",
    "\n",
    "chi, pval, dof, expected = stats.chi2_contingency(df_cross1)\n",
    "\n",
    "print('chi-square test')\n",
    "print('chisq:{0:0.3f}'.format(chi))\n",
    "print('p:{0:0.3f}'.format(pval))\n",
    "print('degree pf freedom:{}',format(dof))\n",
    "print('expected value:\\n{}',format(expected.round(3)))"
   ]
  },
  {
   "cell_type": "code",
   "execution_count": 227,
   "id": "99ca3965",
   "metadata": {},
   "outputs": [
    {
     "name": "stdout",
     "output_type": "stream",
     "text": [
      "chi-square test\n",
      "chisq:219.905\n",
      "p:1.000\n",
      "degree pf freedom:{} 414\n",
      "expected value:\n",
      "{} [[4.09040e+01 1.72179e+02 4.75630e+01 7.61010e+01 2.94890e+01 1.31275e+02\n",
      "  5.70800e+00 1.90300e+00 2.14986e+02 1.80740e+01 1.79790e+02 3.42460e+01\n",
      "  2.85400e+00 3.51970e+01 1.90300e+00 4.28070e+01 1.25567e+02 3.80500e+00\n",
      "  1.52200e+01 9.51000e-01 2.47330e+01 9.51000e-01 5.51740e+01 1.42690e+01\n",
      "  1.14152e+02 1.80740e+01 1.71230e+01 4.18560e+01 4.75600e+00 1.71230e+01\n",
      "  2.18790e+01 1.50300e+02 1.54105e+02 9.51000e-01 1.61720e+01 9.51300e+00\n",
      "  8.46630e+01 1.23660e+01 7.51500e+01 5.70800e+00 2.37820e+01 5.42220e+01\n",
      "  2.09279e+02 1.04640e+01 9.89320e+01 1.82643e+02 6.27840e+01 1.14150e+01\n",
      "  4.75600e+00 7.13450e+01 1.33180e+01 1.04640e+01 1.36031e+02 6.27840e+01\n",
      "  8.56100e+00 5.80270e+01 4.66120e+01 2.37820e+01 4.75630e+01 4.09040e+01\n",
      "  1.14150e+01 8.56140e+01 8.08580e+01 5.23200e+01 2.85400e+00 1.66472e+02\n",
      "  8.65650e+01 5.70800e+00 5.70800e+00 5.70800e+00 2.85400e+00 4.18560e+01\n",
      "  8.56100e+00 2.18790e+01 2.85400e+00 3.99530e+01 6.65900e+00 1.57910e+02\n",
      "  1.23660e+01 1.23660e+01 1.33177e+02 5.61250e+01 5.13680e+01 1.14150e+01\n",
      "  8.27600e+01 8.75170e+01 4.75600e+00 2.94890e+01 1.33180e+01 2.36866e+02\n",
      "  2.81575e+02 3.11064e+02 2.94893e+02 1.09396e+02 3.51970e+01 4.56610e+01\n",
      "  3.42460e+01 3.80500e+00 4.28070e+01 7.32480e+01 2.66350e+01 1.61720e+01\n",
      "  2.85400e+00 9.70290e+01 1.14150e+01 4.75630e+01 9.79810e+01 5.32710e+01\n",
      "  2.82526e+02 9.51300e+00 5.04170e+01 1.09396e+02 2.85400e+00 8.75170e+01\n",
      "  5.13680e+01 1.42690e+02 8.94190e+01 6.75400e+01 5.70800e+00 1.22713e+02\n",
      "  1.23660e+01 2.37820e+01 7.80040e+01 1.71230e+01 5.13680e+01 1.23660e+01\n",
      "  3.99530e+01 1.06542e+02 3.80500e+00 1.14150e+01 4.75600e+00 5.61250e+01\n",
      "  3.80500e+00 1.00834e+02 1.71230e+01 6.65900e+00 1.04640e+01 1.04640e+01\n",
      "  4.85150e+01 2.85400e+00 1.71230e+01 3.80500e+00 1.90300e+00 9.51300e+00\n",
      "  1.80740e+01 1.61720e+01 2.18791e+02 1.90300e+00 1.54105e+02 1.42690e+01\n",
      "  1.13201e+02 8.18090e+01 3.80510e+01 3.80510e+01 6.65900e+00 4.75600e+00\n",
      "  4.75600e+00 9.32240e+01 5.61250e+01 6.27840e+01 1.71230e+01 1.90300e+00\n",
      "  2.85400e+00 1.24616e+02 1.04640e+01 2.18790e+01 8.18090e+01 5.42220e+01\n",
      "  1.90250e+01 4.56610e+01 1.99770e+01 4.37580e+01 1.04640e+01 1.13201e+02\n",
      "  3.61480e+01 1.23660e+01 2.87283e+02 1.51252e+02 8.56100e+00 5.70800e+00\n",
      "  4.75600e+00 1.82643e+02 8.65650e+01 5.99300e+01 4.28070e+01 3.23430e+01\n",
      "  9.51300e+00 2.28300e+01 3.99530e+01 8.56100e+00 1.15103e+02 4.28070e+01\n",
      "  1.25567e+02 1.99770e+01 7.61000e+00 8.56100e+00 3.80500e+00 9.51000e-01\n",
      "  3.80500e+00 1.90300e+00 1.65521e+02 3.42460e+01 3.32940e+01 1.12250e+02\n",
      "  2.85400e+00 5.70800e+00 9.51300e+00 1.11460e+04]\n",
      " [2.09600e+00 8.82100e+00 2.43700e+00 3.89900e+00 1.51100e+00 6.72500e+00\n",
      "  2.92000e-01 9.70000e-02 1.10140e+01 9.26000e-01 9.21000e+00 1.75400e+00\n",
      "  1.46000e-01 1.80300e+00 9.70000e-02 2.19300e+00 6.43300e+00 1.95000e-01\n",
      "  7.80000e-01 4.90000e-02 1.26700e+00 4.90000e-02 2.82600e+00 7.31000e-01\n",
      "  5.84800e+00 9.26000e-01 8.77000e-01 2.14400e+00 2.44000e-01 8.77000e-01\n",
      "  1.12100e+00 7.70000e+00 7.89500e+00 4.90000e-02 8.28000e-01 4.87000e-01\n",
      "  4.33700e+00 6.34000e-01 3.85000e+00 2.92000e-01 1.21800e+00 2.77800e+00\n",
      "  1.07210e+01 5.36000e-01 5.06800e+00 9.35700e+00 3.21600e+00 5.85000e-01\n",
      "  2.44000e-01 3.65500e+00 6.82000e-01 5.36000e-01 6.96900e+00 3.21600e+00\n",
      "  4.39000e-01 2.97300e+00 2.38800e+00 1.21800e+00 2.43700e+00 2.09600e+00\n",
      "  5.85000e-01 4.38600e+00 4.14200e+00 2.68000e+00 1.46000e-01 8.52800e+00\n",
      "  4.43500e+00 2.92000e-01 2.92000e-01 2.92000e-01 1.46000e-01 2.14400e+00\n",
      "  4.39000e-01 1.12100e+00 1.46000e-01 2.04700e+00 3.41000e-01 8.09000e+00\n",
      "  6.34000e-01 6.34000e-01 6.82300e+00 2.87500e+00 2.63200e+00 5.85000e-01\n",
      "  4.24000e+00 4.48300e+00 2.44000e-01 1.51100e+00 6.82000e-01 1.21340e+01\n",
      "  1.44250e+01 1.59360e+01 1.51070e+01 5.60400e+00 1.80300e+00 2.33900e+00\n",
      "  1.75400e+00 1.95000e-01 2.19300e+00 3.75200e+00 1.36500e+00 8.28000e-01\n",
      "  1.46000e-01 4.97100e+00 5.85000e-01 2.43700e+00 5.01900e+00 2.72900e+00\n",
      "  1.44740e+01 4.87000e-01 2.58300e+00 5.60400e+00 1.46000e-01 4.48300e+00\n",
      "  2.63200e+00 7.31000e+00 4.58100e+00 3.46000e+00 2.92000e-01 6.28700e+00\n",
      "  6.34000e-01 1.21800e+00 3.99600e+00 8.77000e-01 2.63200e+00 6.34000e-01\n",
      "  2.04700e+00 5.45800e+00 1.95000e-01 5.85000e-01 2.44000e-01 2.87500e+00\n",
      "  1.95000e-01 5.16600e+00 8.77000e-01 3.41000e-01 5.36000e-01 5.36000e-01\n",
      "  2.48500e+00 1.46000e-01 8.77000e-01 1.95000e-01 9.70000e-02 4.87000e-01\n",
      "  9.26000e-01 8.28000e-01 1.12090e+01 9.70000e-02 7.89500e+00 7.31000e-01\n",
      "  5.79900e+00 4.19100e+00 1.94900e+00 1.94900e+00 3.41000e-01 2.44000e-01\n",
      "  2.44000e-01 4.77600e+00 2.87500e+00 3.21600e+00 8.77000e-01 9.70000e-02\n",
      "  1.46000e-01 6.38400e+00 5.36000e-01 1.12100e+00 4.19100e+00 2.77800e+00\n",
      "  9.75000e-01 2.33900e+00 1.02300e+00 2.24200e+00 5.36000e-01 5.79900e+00\n",
      "  1.85200e+00 6.34000e-01 1.47170e+01 7.74800e+00 4.39000e-01 2.92000e-01\n",
      "  2.44000e-01 9.35700e+00 4.43500e+00 3.07000e+00 2.19300e+00 1.65700e+00\n",
      "  4.87000e-01 1.17000e+00 2.04700e+00 4.39000e-01 5.89700e+00 2.19300e+00\n",
      "  6.43300e+00 1.02300e+00 3.90000e-01 4.39000e-01 1.95000e-01 4.90000e-02\n",
      "  1.95000e-01 9.70000e-02 8.47900e+00 1.75400e+00 1.70600e+00 5.75000e+00\n",
      "  1.46000e-01 2.92000e-01 4.87000e-01 5.71000e+02]\n",
      " [4.30000e+01 1.81000e+02 5.00000e+01 8.00000e+01 3.10000e+01 1.38000e+02\n",
      "  6.00000e+00 2.00000e+00 2.26000e+02 1.90000e+01 1.89000e+02 3.60000e+01\n",
      "  3.00000e+00 3.70000e+01 2.00000e+00 4.50000e+01 1.32000e+02 4.00000e+00\n",
      "  1.60000e+01 1.00000e+00 2.60000e+01 1.00000e+00 5.80000e+01 1.50000e+01\n",
      "  1.20000e+02 1.90000e+01 1.80000e+01 4.40000e+01 5.00000e+00 1.80000e+01\n",
      "  2.30000e+01 1.58000e+02 1.62000e+02 1.00000e+00 1.70000e+01 1.00000e+01\n",
      "  8.90000e+01 1.30000e+01 7.90000e+01 6.00000e+00 2.50000e+01 5.70000e+01\n",
      "  2.20000e+02 1.10000e+01 1.04000e+02 1.92000e+02 6.60000e+01 1.20000e+01\n",
      "  5.00000e+00 7.50000e+01 1.40000e+01 1.10000e+01 1.43000e+02 6.60000e+01\n",
      "  9.00000e+00 6.10000e+01 4.90000e+01 2.50000e+01 5.00000e+01 4.30000e+01\n",
      "  1.20000e+01 9.00000e+01 8.50000e+01 5.50000e+01 3.00000e+00 1.75000e+02\n",
      "  9.10000e+01 6.00000e+00 6.00000e+00 6.00000e+00 3.00000e+00 4.40000e+01\n",
      "  9.00000e+00 2.30000e+01 3.00000e+00 4.20000e+01 7.00000e+00 1.66000e+02\n",
      "  1.30000e+01 1.30000e+01 1.40000e+02 5.90000e+01 5.40000e+01 1.20000e+01\n",
      "  8.70000e+01 9.20000e+01 5.00000e+00 3.10000e+01 1.40000e+01 2.49000e+02\n",
      "  2.96000e+02 3.27000e+02 3.10000e+02 1.15000e+02 3.70000e+01 4.80000e+01\n",
      "  3.60000e+01 4.00000e+00 4.50000e+01 7.70000e+01 2.80000e+01 1.70000e+01\n",
      "  3.00000e+00 1.02000e+02 1.20000e+01 5.00000e+01 1.03000e+02 5.60000e+01\n",
      "  2.97000e+02 1.00000e+01 5.30000e+01 1.15000e+02 3.00000e+00 9.20000e+01\n",
      "  5.40000e+01 1.50000e+02 9.40000e+01 7.10000e+01 6.00000e+00 1.29000e+02\n",
      "  1.30000e+01 2.50000e+01 8.20000e+01 1.80000e+01 5.40000e+01 1.30000e+01\n",
      "  4.20000e+01 1.12000e+02 4.00000e+00 1.20000e+01 5.00000e+00 5.90000e+01\n",
      "  4.00000e+00 1.06000e+02 1.80000e+01 7.00000e+00 1.10000e+01 1.10000e+01\n",
      "  5.10000e+01 3.00000e+00 1.80000e+01 4.00000e+00 2.00000e+00 1.00000e+01\n",
      "  1.90000e+01 1.70000e+01 2.30000e+02 2.00000e+00 1.62000e+02 1.50000e+01\n",
      "  1.19000e+02 8.60000e+01 4.00000e+01 4.00000e+01 7.00000e+00 5.00000e+00\n",
      "  5.00000e+00 9.80000e+01 5.90000e+01 6.60000e+01 1.80000e+01 2.00000e+00\n",
      "  3.00000e+00 1.31000e+02 1.10000e+01 2.30000e+01 8.60000e+01 5.70000e+01\n",
      "  2.00000e+01 4.80000e+01 2.10000e+01 4.60000e+01 1.10000e+01 1.19000e+02\n",
      "  3.80000e+01 1.30000e+01 3.02000e+02 1.59000e+02 9.00000e+00 6.00000e+00\n",
      "  5.00000e+00 1.92000e+02 9.10000e+01 6.30000e+01 4.50000e+01 3.40000e+01\n",
      "  1.00000e+01 2.40000e+01 4.20000e+01 9.00000e+00 1.21000e+02 4.50000e+01\n",
      "  1.32000e+02 2.10000e+01 8.00000e+00 9.00000e+00 4.00000e+00 1.00000e+00\n",
      "  4.00000e+00 2.00000e+00 1.74000e+02 3.60000e+01 3.50000e+01 1.18000e+02\n",
      "  3.00000e+00 6.00000e+00 1.00000e+01 1.17170e+04]]\n"
     ]
    }
   ],
   "source": [
    "df_cross=fun_print_crosstab(df1,'세부주소지')\n",
    "\n",
    "\n",
    "# df_cross=fun_print_crosstab(df1,'결혼')\n",
    "# df_cross\n",
    "\n",
    "# 귀무가설 : 서로 독립이다\n",
    "# 기각하므로 상관관계가 있음\n",
    "# 주소지 간에는 vip 상관관계 없음\n",
    "\n",
    "chi, pval, dof, expected = stats.chi2_contingency(df_cross)\n",
    "\n",
    "print('chi-square test')\n",
    "print('chisq:{0:0.3f}'.format(chi))\n",
    "print('p:{0:0.3f}'.format(pval))\n",
    "print('degree pf freedom:{}',format(dof))\n",
    "print('expected value:\\n{}',format(expected.round(3)))\n"
   ]
  },
  {
   "cell_type": "code",
   "execution_count": 232,
   "id": "306b8f40",
   "metadata": {},
   "outputs": [
    {
     "data": {
      "text/html": [
       "<div>\n",
       "<style scoped>\n",
       "    .dataframe tbody tr th:only-of-type {\n",
       "        vertical-align: middle;\n",
       "    }\n",
       "\n",
       "    .dataframe tbody tr th {\n",
       "        vertical-align: top;\n",
       "    }\n",
       "\n",
       "    .dataframe thead th {\n",
       "        text-align: right;\n",
       "    }\n",
       "</style>\n",
       "<table border=\"1\" class=\"dataframe\">\n",
       "  <thead>\n",
       "    <tr style=\"text-align: right;\">\n",
       "      <th>구독여부</th>\n",
       "      <th>False</th>\n",
       "      <th>True</th>\n",
       "    </tr>\n",
       "    <tr>\n",
       "      <th>VIP</th>\n",
       "      <th></th>\n",
       "      <th></th>\n",
       "    </tr>\n",
       "  </thead>\n",
       "  <tbody>\n",
       "    <tr>\n",
       "      <th>0</th>\n",
       "      <td>7500</td>\n",
       "      <td>1570</td>\n",
       "    </tr>\n",
       "    <tr>\n",
       "      <th>1</th>\n",
       "      <td>386</td>\n",
       "      <td>81</td>\n",
       "    </tr>\n",
       "  </tbody>\n",
       "</table>\n",
       "</div>"
      ],
      "text/plain": [
       "구독여부  False  True\n",
       "VIP              \n",
       "0      7500  1570\n",
       "1       386    81"
      ]
     },
     "execution_count": 232,
     "metadata": {},
     "output_type": "execute_result"
    }
   ],
   "source": [
    "df_cross=fun_print_crosstab(df1,'구독여부')\n",
    "df_cross = df_cross.iloc[:2,:2]\n",
    "df_cross"
   ]
  },
  {
   "cell_type": "code",
   "execution_count": 233,
   "id": "be9d0edb",
   "metadata": {},
   "outputs": [
    {
     "name": "stdout",
     "output_type": "stream",
     "text": [
      "chi-square test\n",
      "chisq:0.000\n",
      "p:1.000\n",
      "degree pf freedom:{} 1\n",
      "expected value:\n",
      "{} [[7499.845 1570.155]\n",
      " [ 386.155   80.845]]\n"
     ]
    }
   ],
   "source": [
    "# df_cross=fun_print_crosstab(df1,'결혼')\n",
    "# df_cross\n",
    "\n",
    "# 귀무가설 : 서로 독립이다\n",
    "# 기각하므로 상관관계가 있음\n",
    "# 주소지 간에는 vip 상관관계 없음\n",
    "\n",
    "chi, pval, dof, expected = stats.chi2_contingency(df_cross)\n",
    "\n",
    "print('chi-square test')\n",
    "print('chisq:{0:0.3f}'.format(chi))\n",
    "print('p:{0:0.3f}'.format(pval))\n",
    "print('degree pf freedom:{}',format(dof))\n",
    "print('expected value:\\n{}',format(expected.round(3)))"
   ]
  },
  {
   "cell_type": "markdown",
   "id": "80258cc9",
   "metadata": {},
   "source": [
    "# 불량"
   ]
  },
  {
   "cell_type": "code",
   "execution_count": 234,
   "id": "69704bf3",
   "metadata": {},
   "outputs": [],
   "source": [
    "def fun_print_crosstab(data, var):\n",
    "    return pd.crosstab(data[\"불량회원\"], data[var], margins=True)"
   ]
  },
  {
   "cell_type": "code",
   "execution_count": 235,
   "id": "63bb69e9",
   "metadata": {},
   "outputs": [],
   "source": [
    "df_cross=fun_print_crosstab(df2,'연령대')"
   ]
  },
  {
   "cell_type": "code",
   "execution_count": 236,
   "id": "51b3880e",
   "metadata": {
    "scrolled": true
   },
   "outputs": [
    {
     "data": {
      "text/html": [
       "<div>\n",
       "<style scoped>\n",
       "    .dataframe tbody tr th:only-of-type {\n",
       "        vertical-align: middle;\n",
       "    }\n",
       "\n",
       "    .dataframe tbody tr th {\n",
       "        vertical-align: top;\n",
       "    }\n",
       "\n",
       "    .dataframe thead th {\n",
       "        text-align: right;\n",
       "    }\n",
       "</style>\n",
       "<table border=\"1\" class=\"dataframe\">\n",
       "  <thead>\n",
       "    <tr style=\"text-align: right;\">\n",
       "      <th>연령대</th>\n",
       "      <th>20대</th>\n",
       "      <th>30대</th>\n",
       "      <th>40대</th>\n",
       "      <th>50대</th>\n",
       "      <th>60대 이상</th>\n",
       "      <th>All</th>\n",
       "    </tr>\n",
       "    <tr>\n",
       "      <th>불량회원</th>\n",
       "      <th></th>\n",
       "      <th></th>\n",
       "      <th></th>\n",
       "      <th></th>\n",
       "      <th></th>\n",
       "      <th></th>\n",
       "    </tr>\n",
       "  </thead>\n",
       "  <tbody>\n",
       "    <tr>\n",
       "      <th>0</th>\n",
       "      <td>1367</td>\n",
       "      <td>4337</td>\n",
       "      <td>2989</td>\n",
       "      <td>1580</td>\n",
       "      <td>1044</td>\n",
       "      <td>11317</td>\n",
       "    </tr>\n",
       "    <tr>\n",
       "      <th>1</th>\n",
       "      <td>74</td>\n",
       "      <td>148</td>\n",
       "      <td>88</td>\n",
       "      <td>58</td>\n",
       "      <td>35</td>\n",
       "      <td>403</td>\n",
       "    </tr>\n",
       "    <tr>\n",
       "      <th>All</th>\n",
       "      <td>1441</td>\n",
       "      <td>4485</td>\n",
       "      <td>3077</td>\n",
       "      <td>1638</td>\n",
       "      <td>1079</td>\n",
       "      <td>11720</td>\n",
       "    </tr>\n",
       "  </tbody>\n",
       "</table>\n",
       "</div>"
      ],
      "text/plain": [
       "연령대    20대   30대   40대   50대  60대 이상    All\n",
       "불량회원                                       \n",
       "0     1367  4337  2989  1580    1044  11317\n",
       "1       74   148    88    58      35    403\n",
       "All   1441  4485  3077  1638    1079  11720"
      ]
     },
     "execution_count": 236,
     "metadata": {},
     "output_type": "execute_result"
    }
   ],
   "source": [
    "df_cross"
   ]
  },
  {
   "cell_type": "code",
   "execution_count": 237,
   "id": "93e7a73f",
   "metadata": {},
   "outputs": [
    {
     "data": {
      "text/html": [
       "<div>\n",
       "<style scoped>\n",
       "    .dataframe tbody tr th:only-of-type {\n",
       "        vertical-align: middle;\n",
       "    }\n",
       "\n",
       "    .dataframe tbody tr th {\n",
       "        vertical-align: top;\n",
       "    }\n",
       "\n",
       "    .dataframe thead th {\n",
       "        text-align: right;\n",
       "    }\n",
       "</style>\n",
       "<table border=\"1\" class=\"dataframe\">\n",
       "  <thead>\n",
       "    <tr style=\"text-align: right;\">\n",
       "      <th>연령대</th>\n",
       "      <th>20대</th>\n",
       "      <th>30대</th>\n",
       "      <th>40대</th>\n",
       "      <th>50대</th>\n",
       "      <th>60대 이상</th>\n",
       "    </tr>\n",
       "    <tr>\n",
       "      <th>불량회원</th>\n",
       "      <th></th>\n",
       "      <th></th>\n",
       "      <th></th>\n",
       "      <th></th>\n",
       "      <th></th>\n",
       "    </tr>\n",
       "  </thead>\n",
       "  <tbody>\n",
       "    <tr>\n",
       "      <th>0</th>\n",
       "      <td>1367</td>\n",
       "      <td>4337</td>\n",
       "      <td>2989</td>\n",
       "      <td>1580</td>\n",
       "      <td>1044</td>\n",
       "    </tr>\n",
       "    <tr>\n",
       "      <th>1</th>\n",
       "      <td>74</td>\n",
       "      <td>148</td>\n",
       "      <td>88</td>\n",
       "      <td>58</td>\n",
       "      <td>35</td>\n",
       "    </tr>\n",
       "  </tbody>\n",
       "</table>\n",
       "</div>"
      ],
      "text/plain": [
       "연령대    20대   30대   40대   50대  60대 이상\n",
       "불량회원                                \n",
       "0     1367  4337  2989  1580    1044\n",
       "1       74   148    88    58      35"
      ]
     },
     "execution_count": 237,
     "metadata": {},
     "output_type": "execute_result"
    }
   ],
   "source": [
    "df_crossT1 = df_cross.iloc[:2,:5]\n",
    "df_crossT1"
   ]
  },
  {
   "cell_type": "code",
   "execution_count": 239,
   "id": "ef1443fa",
   "metadata": {},
   "outputs": [
    {
     "name": "stdout",
     "output_type": "stream",
     "text": [
      "chi-square test\n",
      "chisq:16.032\n",
      "p:0.003\n",
      "degree pf freedom:{} 4\n",
      "expected value:\n",
      "{} [[1391.45  4330.78  2971.195 1581.676 1041.898]\n",
      " [  49.55   154.22   105.805   56.324   37.102]]\n"
     ]
    }
   ],
   "source": [
    "\n",
    "\n",
    "# df_cross=fun_print_crosstab(df1,'결혼')\n",
    "# df_cross\n",
    "\n",
    "# 귀무가설 : 서로 독립이다\n",
    "# 기각하므로 상관관계가 있음\n",
    "# 주소지 간에는 vip 상관관계 없음\n",
    "\n",
    "chi, pval, dof, expected = stats.chi2_contingency(df_crossT1)\n",
    "\n",
    "print('chi-square test')\n",
    "print('chisq:{0:0.3f}'.format(chi))\n",
    "print('p:{0:0.3f}'.format(pval))\n",
    "print('degree pf freedom:{}',format(dof))\n",
    "print('expected value:\\n{}',format(expected.round(3)))\n"
   ]
  },
  {
   "cell_type": "code",
   "execution_count": 242,
   "id": "f34309fa",
   "metadata": {},
   "outputs": [
    {
     "data": {
      "text/html": [
       "<div>\n",
       "<style scoped>\n",
       "    .dataframe tbody tr th:only-of-type {\n",
       "        vertical-align: middle;\n",
       "    }\n",
       "\n",
       "    .dataframe tbody tr th {\n",
       "        vertical-align: top;\n",
       "    }\n",
       "\n",
       "    .dataframe thead th {\n",
       "        text-align: right;\n",
       "    }\n",
       "</style>\n",
       "<table border=\"1\" class=\"dataframe\">\n",
       "  <thead>\n",
       "    <tr style=\"text-align: right;\">\n",
       "      <th>성별</th>\n",
       "      <th>남</th>\n",
       "      <th>여</th>\n",
       "    </tr>\n",
       "    <tr>\n",
       "      <th>불량회원</th>\n",
       "      <th></th>\n",
       "      <th></th>\n",
       "    </tr>\n",
       "  </thead>\n",
       "  <tbody>\n",
       "    <tr>\n",
       "      <th>0</th>\n",
       "      <td>655</td>\n",
       "      <td>10662</td>\n",
       "    </tr>\n",
       "    <tr>\n",
       "      <th>1</th>\n",
       "      <td>30</td>\n",
       "      <td>373</td>\n",
       "    </tr>\n",
       "  </tbody>\n",
       "</table>\n",
       "</div>"
      ],
      "text/plain": [
       "성별      남      여\n",
       "불량회원            \n",
       "0     655  10662\n",
       "1      30    373"
      ]
     },
     "execution_count": 242,
     "metadata": {},
     "output_type": "execute_result"
    }
   ],
   "source": [
    "df_cross=fun_print_crosstab(df2,'성별')\n",
    "df_cross = df_cross.iloc[:2,:2]\n",
    "df_cross"
   ]
  },
  {
   "cell_type": "code",
   "execution_count": 244,
   "id": "4cb49538",
   "metadata": {},
   "outputs": [
    {
     "name": "stdout",
     "output_type": "stream",
     "text": [
      "chi-square test\n",
      "chisq:1.651\n",
      "p:0.19884\n",
      "degree pf freedom:{} 1\n",
      "expected value:\n",
      "{} [[  661.446 10655.554]\n",
      " [   23.554   379.446]]\n"
     ]
    }
   ],
   "source": [
    "# df_cross=fun_print_crosstab(df2,'연령대')\n",
    "\n",
    "\n",
    "# df_cross=fun_print_crosstab(df1,'결혼')\n",
    "# df_cross\n",
    "\n",
    "# 귀무가설 : 서로 독립이다\n",
    "# 기각하므로 상관관계가 있음\n",
    "# 주소지 간에는 vip 상관관계 없음\n",
    "\n",
    "chi, pval, dof, expected = stats.chi2_contingency(df_cross)\n",
    "\n",
    "print('chi-square test')\n",
    "print('chisq:{0:0.3f}'.format(chi))\n",
    "print('p:{0:0.5f}'.format(pval))\n",
    "print('degree pf freedom:{}',format(dof))\n",
    "print('expected value:\\n{}',format(expected.round(3)))\n"
   ]
  },
  {
   "cell_type": "code",
   "execution_count": 248,
   "id": "79e89ee6",
   "metadata": {},
   "outputs": [],
   "source": [
    "df_cross=fun_print_crosstab(df2,'결혼')\n",
    "df_cross"
   ]
  },
  {
   "cell_type": "code",
   "execution_count": 249,
   "id": "a6fa5abb",
   "metadata": {},
   "outputs": [
    {
     "name": "stdout",
     "output_type": "stream",
     "text": [
      "chi-square test\n",
      "chisq:2.999\n",
      "p:0.083\n",
      "degree pf freedom:{} 1\n",
      "expected value:\n",
      "{} [[ 2454.19 11301.81]\n",
      " [   90.81   418.19]]\n"
     ]
    }
   ],
   "source": [
    "\n",
    "# df_cross=fun_print_crosstab(df1,'결혼')\n",
    "# df_cross\n",
    "\n",
    "# 귀무가설 : 서로 독립이다\n",
    "# 기각하므로 상관관계가 있음\n",
    "# 주소지 간에는 vip 상관관계 없음\n",
    "\n",
    "chi, pval, dof, expected = stats.chi2_contingency(df_cross)\n",
    "\n",
    "print('chi-square test')\n",
    "print('chisq:{0:0.3f}'.format(chi))\n",
    "print('p:{0:0.3f}'.format(pval))\n",
    "print('degree pf freedom:{}',format(dof))\n",
    "print('expected value:\\n{}',format(expected.round(3)))\n"
   ]
  },
  {
   "cell_type": "code",
   "execution_count": 251,
   "id": "f017a403",
   "metadata": {},
   "outputs": [
    {
     "data": {
      "text/html": [
       "<div>\n",
       "<style scoped>\n",
       "    .dataframe tbody tr th:only-of-type {\n",
       "        vertical-align: middle;\n",
       "    }\n",
       "\n",
       "    .dataframe tbody tr th {\n",
       "        vertical-align: top;\n",
       "    }\n",
       "\n",
       "    .dataframe thead th {\n",
       "        text-align: right;\n",
       "    }\n",
       "</style>\n",
       "<table border=\"1\" class=\"dataframe\">\n",
       "  <thead>\n",
       "    <tr style=\"text-align: right;\">\n",
       "      <th>구독여부</th>\n",
       "      <th>False</th>\n",
       "      <th>True</th>\n",
       "    </tr>\n",
       "    <tr>\n",
       "      <th>불량회원</th>\n",
       "      <th></th>\n",
       "      <th></th>\n",
       "    </tr>\n",
       "  </thead>\n",
       "  <tbody>\n",
       "    <tr>\n",
       "      <th>0</th>\n",
       "      <td>7628</td>\n",
       "      <td>1592</td>\n",
       "    </tr>\n",
       "    <tr>\n",
       "      <th>1</th>\n",
       "      <td>264</td>\n",
       "      <td>49</td>\n",
       "    </tr>\n",
       "  </tbody>\n",
       "</table>\n",
       "</div>"
      ],
      "text/plain": [
       "구독여부  False  True\n",
       "불량회원             \n",
       "0      7628  1592\n",
       "1       264    49"
      ]
     },
     "execution_count": 251,
     "metadata": {},
     "output_type": "execute_result"
    }
   ],
   "source": [
    "df_cross=fun_print_crosstab(df2,'구독여부')\n",
    "df_cross = df_cross.iloc[:2,:2]\n",
    "df_cross"
   ]
  },
  {
   "cell_type": "code",
   "execution_count": 252,
   "id": "8e6c2744",
   "metadata": {},
   "outputs": [
    {
     "name": "stdout",
     "output_type": "stream",
     "text": [
      "chi-square test\n",
      "chisq:0.445\n",
      "p:0.50491\n",
      "degree pf freedom:{} 1\n",
      "expected value:\n",
      "{} [[7632.879 1587.121]\n",
      " [ 259.121   53.879]]\n"
     ]
    }
   ],
   "source": [
    "# df_cross=fun_print_crosstab(df1,'결혼')\n",
    "# df_cross\n",
    "\n",
    "# 귀무가설 : 서로 독립이다\n",
    "# 기각하므로 상관관계가 있음\n",
    "# 주소지 간에는 vip 상관관계 없음\n",
    "\n",
    "chi, pval, dof, expected = stats.chi2_contingency(df_cross)\n",
    "\n",
    "print('chi-square test')\n",
    "print('chisq:{0:0.3f}'.format(chi))\n",
    "print('p:{0:0.5f}'.format(pval))\n",
    "print('degree pf freedom:{}',format(dof))\n",
    "print('expected value:\\n{}',format(expected.round(3)))"
   ]
  },
  {
   "cell_type": "markdown",
   "id": "1f42d630",
   "metadata": {},
   "source": [
    "# 구독 데이터"
   ]
  },
  {
   "cell_type": "code",
   "execution_count": 253,
   "id": "d72ef420",
   "metadata": {},
   "outputs": [],
   "source": [
    "def fun_print_crosstab(data, var):\n",
    "    return pd.crosstab(data[\"구독여부\"], data[var], margins=True)"
   ]
  },
  {
   "cell_type": "code",
   "execution_count": 260,
   "id": "c6b66a3f",
   "metadata": {},
   "outputs": [
    {
     "data": {
      "text/html": [
       "<div>\n",
       "<style scoped>\n",
       "    .dataframe tbody tr th:only-of-type {\n",
       "        vertical-align: middle;\n",
       "    }\n",
       "\n",
       "    .dataframe tbody tr th {\n",
       "        vertical-align: top;\n",
       "    }\n",
       "\n",
       "    .dataframe thead th {\n",
       "        text-align: right;\n",
       "    }\n",
       "</style>\n",
       "<table border=\"1\" class=\"dataframe\">\n",
       "  <thead>\n",
       "    <tr style=\"text-align: right;\">\n",
       "      <th>연령대</th>\n",
       "      <th>20대</th>\n",
       "      <th>30대</th>\n",
       "      <th>40대</th>\n",
       "      <th>50대</th>\n",
       "      <th>60대 이상</th>\n",
       "    </tr>\n",
       "    <tr>\n",
       "      <th>구독여부</th>\n",
       "      <th></th>\n",
       "      <th></th>\n",
       "      <th></th>\n",
       "      <th></th>\n",
       "      <th></th>\n",
       "    </tr>\n",
       "  </thead>\n",
       "  <tbody>\n",
       "    <tr>\n",
       "      <th>False</th>\n",
       "      <td>956</td>\n",
       "      <td>3030</td>\n",
       "      <td>2078</td>\n",
       "      <td>1116</td>\n",
       "      <td>712</td>\n",
       "    </tr>\n",
       "    <tr>\n",
       "      <th>True</th>\n",
       "      <td>202</td>\n",
       "      <td>581</td>\n",
       "      <td>434</td>\n",
       "      <td>257</td>\n",
       "      <td>167</td>\n",
       "    </tr>\n",
       "  </tbody>\n",
       "</table>\n",
       "</div>"
      ],
      "text/plain": [
       "연령대    20대   30대   40대   50대  60대 이상\n",
       "구독여부                                \n",
       "False  956  3030  2078  1116     712\n",
       "True   202   581   434   257     167"
      ]
     },
     "execution_count": 260,
     "metadata": {},
     "output_type": "execute_result"
    }
   ],
   "source": [
    "df_cross=fun_print_crosstab(df2,'연령대')\n",
    "df_cross = df_cross.iloc[:2,:5]\n",
    "df_cross"
   ]
  },
  {
   "cell_type": "code",
   "execution_count": 261,
   "id": "7d078843",
   "metadata": {},
   "outputs": [
    {
     "name": "stdout",
     "output_type": "stream",
     "text": [
      "chi-square test\n",
      "chisq:7.398\n",
      "p:0.116\n",
      "degree pf freedom:{} 4\n",
      "expected value:\n",
      "{} [[ 958.663 2989.406 2079.587 1136.653  727.69 ]\n",
      " [ 199.337  621.594  432.413  236.347  151.31 ]]\n"
     ]
    }
   ],
   "source": [
    "# df_cross=fun_print_crosstab(df1,'결혼')\n",
    "# df_cross\n",
    "\n",
    "# 귀무가설 : 서로 독립이다\n",
    "# 기각하므로 상관관계가 있음\n",
    "# 주소지 간에는 vip 상관관계 없음\n",
    "\n",
    "chi, pval, dof, expected = stats.chi2_contingency(df_cross)\n",
    "\n",
    "print('chi-square test')\n",
    "print('chisq:{0:0.3f}'.format(chi))\n",
    "print('p:{0:0.3f}'.format(pval))\n",
    "print('degree pf freedom:{}',format(dof))\n",
    "print('expected value:\\n{}',format(expected.round(3)))"
   ]
  },
  {
   "cell_type": "code",
   "execution_count": 256,
   "id": "dd1865f8",
   "metadata": {
    "scrolled": true
   },
   "outputs": [
    {
     "data": {
      "text/html": [
       "<div>\n",
       "<style scoped>\n",
       "    .dataframe tbody tr th:only-of-type {\n",
       "        vertical-align: middle;\n",
       "    }\n",
       "\n",
       "    .dataframe tbody tr th {\n",
       "        vertical-align: top;\n",
       "    }\n",
       "\n",
       "    .dataframe thead th {\n",
       "        text-align: right;\n",
       "    }\n",
       "</style>\n",
       "<table border=\"1\" class=\"dataframe\">\n",
       "  <thead>\n",
       "    <tr style=\"text-align: right;\">\n",
       "      <th>성별</th>\n",
       "      <th>남</th>\n",
       "      <th>여</th>\n",
       "    </tr>\n",
       "    <tr>\n",
       "      <th>구독여부</th>\n",
       "      <th></th>\n",
       "      <th></th>\n",
       "    </tr>\n",
       "  </thead>\n",
       "  <tbody>\n",
       "    <tr>\n",
       "      <th>False</th>\n",
       "      <td>422</td>\n",
       "      <td>7470</td>\n",
       "    </tr>\n",
       "    <tr>\n",
       "      <th>True</th>\n",
       "      <td>110</td>\n",
       "      <td>1531</td>\n",
       "    </tr>\n",
       "  </tbody>\n",
       "</table>\n",
       "</div>"
      ],
      "text/plain": [
       "성별       남     여\n",
       "구독여부            \n",
       "False  422  7470\n",
       "True   110  1531"
      ]
     },
     "execution_count": 256,
     "metadata": {},
     "output_type": "execute_result"
    }
   ],
   "source": [
    "df_cross=fun_print_crosstab(df2,'성별')\n",
    "df_cross = df_cross.iloc[:2,:2]\n",
    "df_cross"
   ]
  },
  {
   "cell_type": "code",
   "execution_count": 257,
   "id": "fe3cc0b8",
   "metadata": {},
   "outputs": [
    {
     "name": "stdout",
     "output_type": "stream",
     "text": [
      "chi-square test\n",
      "chisq:4.487\n",
      "p:0.034\n",
      "degree pf freedom:{} 1\n",
      "expected value:\n",
      "{} [[ 440.422 7451.578]\n",
      " [  91.578 1549.422]]\n"
     ]
    }
   ],
   "source": [
    "# df_cross=fun_print_crosstab(df1,'결혼')\n",
    "# df_cross\n",
    "\n",
    "# 귀무가설 : 서로 독립이다\n",
    "# 기각하므로 상관관계가 있음\n",
    "# 주소지 간에는 vip 상관관계 없음\n",
    "\n",
    "chi, pval, dof, expected = stats.chi2_contingency(df_cross)\n",
    "\n",
    "print('chi-square test')\n",
    "print('chisq:{0:0.3f}'.format(chi))\n",
    "print('p:{0:0.3f}'.format(pval))\n",
    "print('degree pf freedom:{}',format(dof))\n",
    "print('expected value:\\n{}',format(expected.round(3)))"
   ]
  },
  {
   "cell_type": "code",
   "execution_count": null,
   "id": "49efd84d",
   "metadata": {},
   "outputs": [],
   "source": [
    "df_cross=fun_print_crosstab(df2,'성별')\n",
    "df_cross = df_cross.iloc[:2,:2]\n",
    "df_cross"
   ]
  },
  {
   "cell_type": "code",
   "execution_count": null,
   "id": "eec98240",
   "metadata": {},
   "outputs": [],
   "source": []
  }
 ],
 "metadata": {
  "kernelspec": {
   "display_name": "Python 3 (ipykernel)",
   "language": "python",
   "name": "python3"
  },
  "language_info": {
   "codemirror_mode": {
    "name": "ipython",
    "version": 3
   },
   "file_extension": ".py",
   "mimetype": "text/x-python",
   "name": "python",
   "nbconvert_exporter": "python",
   "pygments_lexer": "ipython3",
   "version": "3.9.12"
  }
 },
 "nbformat": 4,
 "nbformat_minor": 5
}
