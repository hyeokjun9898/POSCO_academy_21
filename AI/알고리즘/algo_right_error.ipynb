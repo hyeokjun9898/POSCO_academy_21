{
 "cells": [
  {
   "cell_type": "code",
   "execution_count": 20,
   "id": "ddd997e5",
   "metadata": {},
   "outputs": [
    {
     "ename": "ValueError",
     "evalue": "invalid literal for int() with base 10: ''",
     "output_type": "error",
     "traceback": [
      "\u001b[1;31m---------------------------------------------------------------------------\u001b[0m",
      "\u001b[1;31mValueError\u001b[0m                                Traceback (most recent call last)",
      "Input \u001b[1;32mIn [20]\u001b[0m, in \u001b[0;36m<cell line: 5>\u001b[1;34m()\u001b[0m\n\u001b[0;32m      1\u001b[0m \u001b[38;5;66;03m# import sys\u001b[39;00m\n\u001b[0;32m      2\u001b[0m \u001b[38;5;66;03m# sys.stdin = open(\"input.txt\",\"r\")\u001b[39;00m\n\u001b[0;32m      3\u001b[0m \u001b[38;5;66;03m# input = sys.stdin.readline\u001b[39;00m\n\u001b[1;32m----> 5\u001b[0m t \u001b[38;5;241m=\u001b[39m \u001b[38;5;28;43mint\u001b[39;49m\u001b[43m(\u001b[49m\u001b[38;5;28;43minput\u001b[39;49m\u001b[43m(\u001b[49m\u001b[43m)\u001b[49m\u001b[43m)\u001b[49m\n\u001b[0;32m      6\u001b[0m \u001b[38;5;66;03m# t = int(input().rstrip())\u001b[39;00m\n\u001b[0;32m      7\u001b[0m \u001b[38;5;28;01mfor\u001b[39;00m i \u001b[38;5;129;01min\u001b[39;00m \u001b[38;5;28mrange\u001b[39m(t):\n\u001b[0;32m      8\u001b[0m \u001b[38;5;66;03m#     a = list(input().rstrip())\u001b[39;00m\n",
      "\u001b[1;31mValueError\u001b[0m: invalid literal for int() with base 10: ''"
     ]
    }
   ],
   "source": [
    "# import sys\n",
    "# sys.stdin = open(\"input.txt\",\"r\")\n",
    "# input = sys.stdin.readline\n",
    "\n",
    "t = int(input())\n",
    "# t = int(input().rstrip())\n",
    "for i in range(t):\n",
    "#     a = list(input().rstrip())\n",
    "    a = list(input())\n",
    "    array_stack = [0]\n",
    "    answer =True\n",
    "    #괄호검사, 스택구조\n",
    "    for j in range(len(a)):\n",
    "        if a[j] == \"(\" or  a[j] ==\"[\" or a[j] == \"{\":\n",
    "            array_stack.append(a[j])\n",
    "        elif len(array_stack) == 1:\n",
    "            answer =False\n",
    "            break\n",
    "        elif a[j] == \")\":\n",
    "            if array_stack.pop() != \"(\":\n",
    "                answer =False\n",
    "                break\n",
    "        elif a[j] == \"}\":\n",
    "            if array_stack.pop() != \"{\" :\n",
    "                answer =False\n",
    "                break\n",
    "        elif a[j] == \"]\":\n",
    "            if array_stack.pop() != \"[\" :\n",
    "                answer =False\n",
    "                break\n",
    "    if len(array_stack) !=1: #괄호열이 끝났는데, 닫혀지지 않은 괄호가 남은 경우\n",
    "        answer = False\n",
    "    if answer == True:\n",
    "        print(\"YES\")\n",
    "    else:\n",
    "        print(\"NO\")"
   ]
  },
  {
   "cell_type": "code",
   "execution_count": null,
   "id": "426be628",
   "metadata": {},
   "outputs": [],
   "source": []
  }
 ],
 "metadata": {
  "kernelspec": {
   "display_name": "Python 3 (ipykernel)",
   "language": "python",
   "name": "python3"
  },
  "language_info": {
   "codemirror_mode": {
    "name": "ipython",
    "version": 3
   },
   "file_extension": ".py",
   "mimetype": "text/x-python",
   "name": "python",
   "nbconvert_exporter": "python",
   "pygments_lexer": "ipython3",
   "version": "3.9.12"
  }
 },
 "nbformat": 4,
 "nbformat_minor": 5
}
