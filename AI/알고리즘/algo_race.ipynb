{
 "cells": [
  {
   "cell_type": "code",
   "execution_count": 36,
   "id": "1122d884",
   "metadata": {},
   "outputs": [
    {
     "name": "stdout",
     "output_type": "stream",
     "text": [
      "NO\n",
      "YES\n",
      "YES\n",
      "NO\n",
      "YES\n",
      "0.20229 sec\n"
     ]
    }
   ],
   "source": [
    "from collections import deque\n",
    "import sys\n",
    "\n",
    "sys.stdin = open(\"input2.txt\",\"r\")\n",
    "input = sys.stdin.readline\n",
    "# t = int(input())\n",
    "t = int(input().rstrip())\n",
    "for _ in range(t):\n",
    "    q = deque([])\n",
    "    a = list(input().split())\n",
    "    for i in range(len(a)):\n",
    "        q.append(a[i])\n",
    "        if len(q) >1 and q[0] == a[i]: # q첫번째와 같다면 빼기, 아니면 False\n",
    "            q.popleft()\n",
    "            q.pop()\n",
    "    if len(q) == 0:\n",
    "        print(\"NO\")\n",
    "    else:\n",
    "        print(\"YES\")"
   ]
  },
  {
   "cell_type": "code",
   "execution_count": null,
   "id": "ef4314a4",
   "metadata": {},
   "outputs": [],
   "source": []
  }
 ],
 "metadata": {
  "kernelspec": {
   "display_name": "Python 3 (ipykernel)",
   "language": "python",
   "name": "python3"
  },
  "language_info": {
   "codemirror_mode": {
    "name": "ipython",
    "version": 3
   },
   "file_extension": ".py",
   "mimetype": "text/x-python",
   "name": "python",
   "nbconvert_exporter": "python",
   "pygments_lexer": "ipython3",
   "version": "3.9.12"
  }
 },
 "nbformat": 4,
 "nbformat_minor": 5
}
