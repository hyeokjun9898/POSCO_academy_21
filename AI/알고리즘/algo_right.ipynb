{
 "cells": [
  {
   "cell_type": "code",
   "execution_count": 13,
   "id": "1f4c407d",
   "metadata": {},
   "outputs": [
    {
     "ename": "ValueError",
     "evalue": "invalid literal for int() with base 10: ''",
     "output_type": "error",
     "traceback": [
      "\u001b[1;31m---------------------------------------------------------------------------\u001b[0m",
      "\u001b[1;31mValueError\u001b[0m                                Traceback (most recent call last)",
      "Input \u001b[1;32mIn [13]\u001b[0m, in \u001b[0;36m<cell line: 4>\u001b[1;34m()\u001b[0m\n\u001b[0;32m      1\u001b[0m \u001b[38;5;66;03m# import sys\u001b[39;00m\n\u001b[0;32m      2\u001b[0m \u001b[38;5;66;03m# sys.stdin = open(\"input.txt\",\"r\")\u001b[39;00m\n\u001b[0;32m      3\u001b[0m \u001b[38;5;66;03m# input = sys.stdin.readline\u001b[39;00m\n\u001b[1;32m----> 4\u001b[0m t \u001b[38;5;241m=\u001b[39m \u001b[38;5;28;43mint\u001b[39;49m\u001b[43m(\u001b[49m\u001b[38;5;28;43minput\u001b[39;49m\u001b[43m(\u001b[49m\u001b[43m)\u001b[49m\u001b[43m)\u001b[49m\n\u001b[0;32m      5\u001b[0m \u001b[38;5;66;03m# t = int(input().rstrip())\u001b[39;00m\n\u001b[0;32m      6\u001b[0m \u001b[38;5;28;01mfor\u001b[39;00m _ \u001b[38;5;129;01min\u001b[39;00m \u001b[38;5;28mrange\u001b[39m(t):\n",
      "\u001b[1;31mValueError\u001b[0m: invalid literal for int() with base 10: ''"
     ]
    }
   ],
   "source": [
    "# import sys\n",
    "# sys.stdin = open(\"input.txt\",\"r\")\n",
    "# input = sys.stdin.readline\n",
    "t = int(input())\n",
    "# t = int(input().rstrip())\n",
    "for _ in range(t):\n",
    "    bracket = input()\n",
    "#     bracket = input().rstrip()\n",
    "    stk = [] #스택 초기화\n",
    "    correct = True #올바른 괄호열인지 저장하는 변수\n",
    "    for b in bracket:\n",
    "        if b ==\"(\" or b ==\"{\" or b ==\"[\":   #여는 괄호의 경우, 스택에 넣음\n",
    "            stk.append(b)\n",
    "        elif len(stk) == 0 :#스택이 비어있거나, pop된 괄호와 매칭 x인 경우\n",
    "            correct = False\n",
    "            break\n",
    "        elif b == \")\":\n",
    "            if stk.pop() != \"(\":\n",
    "                correct = False\n",
    "                break\n",
    "        elif b == \"}\":\n",
    "            if stk.pop() != \"{\":\n",
    "                correct = False\n",
    "                break\n",
    "        elif b == \"]\":\n",
    "            if stk.pop() != \"[\":\n",
    "                correct = False\n",
    "                break\n",
    "    if len(stk) !=0: #괄호열이 끝났는데, 닫혀지지 않은 괄호가 남은 경우\n",
    "        correct = False\n",
    "    if correct == True:\n",
    "        print(\"YES\")\n",
    "    else:\n",
    "        print(\"NO\")"
   ]
  },
  {
   "cell_type": "code",
   "execution_count": null,
   "id": "4d90f130",
   "metadata": {},
   "outputs": [],
   "source": []
  }
 ],
 "metadata": {
  "kernelspec": {
   "display_name": "Python 3 (ipykernel)",
   "language": "python",
   "name": "python3"
  },
  "language_info": {
   "codemirror_mode": {
    "name": "ipython",
    "version": 3
   },
   "file_extension": ".py",
   "mimetype": "text/x-python",
   "name": "python",
   "nbconvert_exporter": "python",
   "pygments_lexer": "ipython3",
   "version": "3.9.12"
  }
 },
 "nbformat": 4,
 "nbformat_minor": 5
}
